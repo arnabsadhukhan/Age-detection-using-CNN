{
  "nbformat": 4,
  "nbformat_minor": 0,
  "metadata": {
    "colab": {
      "name": "TEST MODEL",
      "provenance": [],
      "private_outputs": true,
      "collapsed_sections": []
    },
    "kernelspec": {
      "name": "python3",
      "display_name": "Python 3"
    }
  },
  "cells": [
    {
      "cell_type": "code",
      "metadata": {
        "id": "mM-yR8uppHi7",
        "colab_type": "code",
        "colab": {}
      },
      "source": [
        "%tensorflow_version 2.x\n",
        "from tensorflow.keras.models import load_model\n",
        "import requests\n",
        "import numpy as np\n",
        "import cv2\n",
        "from google.colab.patches import cv2_imshow\n",
        "import json"
      ],
      "execution_count": 0,
      "outputs": []
    },
    {
      "cell_type": "code",
      "metadata": {
        "id": "gR_sFsgBpWNM",
        "colab_type": "code",
        "colab": {}
      },
      "source": [
        "\n",
        "bin_ages_=[  1.,   2.,   4.,   8.,  13.,  17.,  21.,  24.,  25.,  26.,  28.,\n",
        "        29.,  31.,  34.,  36.,  38.,  42.,  47.,  51.,  55.,  60.,  66.,\n",
        "        76., 116.,120]\n",
        "\n",
        "face_cascade = cv2.CascadeClassifier(cv2.data.haarcascades+'haarcascade_frontalface_alt2.xml')"
      ],
      "execution_count": 0,
      "outputs": []
    },
    {
      "cell_type": "code",
      "metadata": {
        "id": "cVfHQj6gpdSU",
        "colab_type": "code",
        "colab": {}
      },
      "source": [
        "model = load_model(\"Save_models/model_v2.model\")"
      ],
      "execution_count": 0,
      "outputs": []
    },
    {
      "cell_type": "markdown",
      "metadata": {
        "id": "NQMy2s6npdsv",
        "colab_type": "text"
      },
      "source": [
        "TEST THE MODEL USING URL LINKS"
      ]
    },
    {
      "cell_type": "code",
      "metadata": {
        "id": "pdPF9gRvphyT",
        "colab_type": "code",
        "colab": {}
      },
      "source": [
        "url = 'https://cdn.vox-cdn.com/thumbor/1ck1fQL62j2GaDvOlnJu4fyuIIc=/0x0:3049x2048/1200x800/filters:focal(1333x1562:1819x2048)/cdn.vox-cdn.com/uploads/chorus_image/image/63058104/fake_ai_faces.0.png'\n",
        "\n",
        "resp = requests.get(url)\n",
        "image = np.asarray(bytearray(resp.content), dtype=\"uint8\")\n",
        "img = cv2.imdecode(image, cv2.IMREAD_COLOR)\n",
        "img = cv2.resize(img,(300,300))\n",
        "gray = cv2.cvtColor(img, cv2.COLOR_BGR2GRAY)\n",
        "a =-5\n",
        "faces = face_cascade.detectMultiScale(gray, 1.1, 5)\n",
        "\n",
        "for (x,y,w,h) in faces:\n",
        "      cv2_imshow(img[y:y+h+25,x+5:x+w-10])\n",
        "      img_ = img[y-a:y+h+a+10,x-a:x+w+a]\n",
        "      img_ = cv2.resize(img_,(100,100))\n",
        "      i = np.argmax(model.predict(img_.reshape(1,100,100,3)/255.0)[0])\n",
        "      print('age: ',bin_ages_[i],'-',bin_ages_[i+1])"
      ],
      "execution_count": 0,
      "outputs": []
    },
    {
      "cell_type": "markdown",
      "metadata": {
        "id": "--xJBT5Npz39",
        "colab_type": "text"
      },
      "source": [
        "TEST THE MODEL BY IMAGE"
      ]
    },
    {
      "cell_type": "code",
      "metadata": {
        "id": "ZGXld2p9p35J",
        "colab_type": "code",
        "colab": {}
      },
      "source": [
        "img = cv2.imread('/content/images.jpeg')\n",
        "img = cv2.resize(img,(300,300))\n",
        "gray = cv2.cvtColor(img, cv2.COLOR_BGR2GRAY)\n",
        "a =-5\n",
        "faces = face_cascade.detectMultiScale(gray, 1.1, 5)\n",
        "\n",
        "for (x,y,w,h) in faces:\n",
        "      cv2_imshow(img[y:y+h+25,x+5:x+w-10])\n",
        "      img_ = img[y-a:y+h+a+10,x-a:x+w+a]\n",
        "      img_ = cv2.resize(img_,(100,100))\n",
        "    print(bin_ages_[np.argmax(model.predict(img_.reshape(1,100,100,3)/255.0)[0])])"
      ],
      "execution_count": 0,
      "outputs": []
    }
  ]
}